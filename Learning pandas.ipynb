{
 "cells": [
  {
   "cell_type": "code",
   "execution_count": 3,
   "id": "b1852c3f",
   "metadata": {},
   "outputs": [],
   "source": [
    "import numpy as py\n",
    "import pandas as pd\n"
   ]
  },
  {
   "cell_type": "code",
   "execution_count": 4,
   "id": "e82fec6d",
   "metadata": {},
   "outputs": [],
   "source": [
    "# Series"
   ]
  },
  {
   "cell_type": "code",
   "execution_count": 5,
   "id": "2ef295ce",
   "metadata": {},
   "outputs": [
    {
     "data": {
      "text/plain": [
       "0   NaN\n",
       "1   NaN\n",
       "2   NaN\n",
       "3   NaN\n",
       "4   NaN\n",
       "6   NaN\n",
       "7   NaN\n",
       "dtype: float64"
      ]
     },
     "execution_count": 5,
     "metadata": {},
     "output_type": "execute_result"
    }
   ],
   "source": [
    "list_1 = ['a', 'b', 'c', 'd']\n",
    "labels = [1,2,3,10]\n",
    "ser_1 = pd.Series(data=list_1, index=labels)\n",
    "ser_1\n",
    "\n",
    "# print(ser_1[10])\n",
    "\n",
    "arr_1 = py.array([1,2,3,4])\n",
    "ser_2 = pd.Series(arr_1)\n",
    "\n",
    "dict_1 = {'f_name' : 'Demi', 'l_name' : 'Aina', 'age' : 14}\n",
    "ser_3 = pd.Series(dict_1)\n",
    "\n",
    "ser_3\n",
    "\n",
    "ser_2 / ser_2\n",
    "\n",
    "py.exp(ser_2)\n",
    "\n",
    "ser_4 = pd.Series({4:5, 4:6, 6 : 7, 7:8}, name='random_nums')\n",
    "\n",
    "ser_2 + ser_4"
   ]
  },
  {
   "cell_type": "code",
   "execution_count": 6,
   "id": "ed044364",
   "metadata": {},
   "outputs": [],
   "source": [
    "# Dataframes "
   ]
  },
  {
   "cell_type": "code",
   "execution_count": 7,
   "id": "812cc3eb",
   "metadata": {},
   "outputs": [
    {
     "data": {
      "text/html": [
       "<div>\n",
       "<style scoped>\n",
       "    .dataframe tbody tr th:only-of-type {\n",
       "        vertical-align: middle;\n",
       "    }\n",
       "\n",
       "    .dataframe tbody tr th {\n",
       "        vertical-align: top;\n",
       "    }\n",
       "\n",
       "    .dataframe thead th {\n",
       "        text-align: right;\n",
       "    }\n",
       "</style>\n",
       "<table border=\"1\" class=\"dataframe\">\n",
       "  <thead>\n",
       "    <tr style=\"text-align: right;\">\n",
       "      <th></th>\n",
       "      <th>one</th>\n",
       "      <th>two</th>\n",
       "      <th>three</th>\n",
       "    </tr>\n",
       "  </thead>\n",
       "  <tbody>\n",
       "    <tr>\n",
       "      <th>A</th>\n",
       "      <td>1</td>\n",
       "      <td>2</td>\n",
       "      <td>3</td>\n",
       "    </tr>\n",
       "    <tr>\n",
       "      <th>B</th>\n",
       "      <td>4</td>\n",
       "      <td>5</td>\n",
       "      <td>6</td>\n",
       "    </tr>\n",
       "  </tbody>\n",
       "</table>\n",
       "</div>"
      ],
      "text/plain": [
       "   one  two  three\n",
       "A    1    2      3\n",
       "B    4    5      6"
      ]
     },
     "execution_count": 7,
     "metadata": {},
     "output_type": "execute_result"
    }
   ],
   "source": [
    "arr_2 = py.random.randint(10,50 , size=(2,3))\n",
    "df_1 = pd.DataFrame(arr_2, ['A', 'B'], ['C', 'D', 'E'])\n",
    "df_1\n",
    "\n",
    "dict_3 = {'one' : pd.Series([1.,2.,3.], index=['a','b','c']),\n",
    "            'two' : pd.Series([1.,2.,3.,4.], index=['a','b','c','d'])}\n",
    "\n",
    "df_2 = pd.DataFrame(dict_3)\n",
    "\n",
    "pd.DataFrame.from_dict(dict([('A', [1,2,3]), ('B' , [4,5,6])]))\n",
    "\n",
    "pd.DataFrame.from_dict(dict([('A', [1,2,3]), ('B' , [4,5,6])]),\n",
    "                        orient='index',  columns=['one', 'two', 'three'])"
   ]
  },
  {
   "cell_type": "code",
   "execution_count": 8,
   "id": "6d50d91e",
   "metadata": {},
   "outputs": [],
   "source": [
    "## What can I do with dat frames\n"
   ]
  },
  {
   "cell_type": "code",
   "execution_count": 9,
   "id": "7515832a",
   "metadata": {},
   "outputs": [
    {
     "name": "stdout",
     "output_type": "stream",
     "text": [
      "   one  two\n",
      "a  1.0  1.0\n",
      "b  2.0  2.0\n",
      "c  3.0  3.0\n",
      "d  NaN  4.0\n",
      "      C     D     E  Total\n",
      "A  20.0  38.0  13.0   71.0\n",
      "B  32.0  17.0  19.0   68.0\n",
      "F  44.0  45.0  46.0    NaN\n"
     ]
    },
    {
     "data": {
      "text/html": [
       "<div>\n",
       "<style scoped>\n",
       "    .dataframe tbody tr th:only-of-type {\n",
       "        vertical-align: middle;\n",
       "    }\n",
       "\n",
       "    .dataframe tbody tr th {\n",
       "        vertical-align: top;\n",
       "    }\n",
       "\n",
       "    .dataframe thead th {\n",
       "        text-align: right;\n",
       "    }\n",
       "</style>\n",
       "<table border=\"1\" class=\"dataframe\">\n",
       "  <thead>\n",
       "    <tr style=\"text-align: right;\">\n",
       "      <th></th>\n",
       "      <th>A</th>\n",
       "    </tr>\n",
       "  </thead>\n",
       "  <tbody>\n",
       "    <tr>\n",
       "      <th>0</th>\n",
       "      <td>1.0</td>\n",
       "    </tr>\n",
       "    <tr>\n",
       "      <th>1</th>\n",
       "      <td>9.0</td>\n",
       "    </tr>\n",
       "    <tr>\n",
       "      <th>2</th>\n",
       "      <td>3.0</td>\n",
       "    </tr>\n",
       "    <tr>\n",
       "      <th>3</th>\n",
       "      <td>4.0</td>\n",
       "    </tr>\n",
       "  </tbody>\n",
       "</table>\n",
       "</div>"
      ],
      "text/plain": [
       "     A\n",
       "0  1.0\n",
       "1  9.0\n",
       "2  3.0\n",
       "3  4.0"
      ]
     },
     "execution_count": 9,
     "metadata": {},
     "output_type": "execute_result"
    }
   ],
   "source": [
    "df_1\n",
    "df_1[['C','E']]\n",
    "df_1.loc['A']\n",
    "df_1.iloc[1]\n",
    "df_1.loc[['A','B'], ['D', 'E']]\n",
    "df_1['Total'] = df_1['C'] + df_1['D'] + df_1['E']\n",
    "print(df_2)\n",
    "df_2['mult'] = df_2['one'] * df_2['two']\n",
    "dict_2 = {'C' : 44, 'D' : 45, 'E': 46}\n",
    "new_row = pd.Series(dict_2, name='F')\n",
    "#df_1 = df_1.append(new_row) # depcrated method\n",
    "\n",
    "#Concat method recommneded \n",
    "df_1 = pd.concat([df_1, pd.DataFrame([new_row], columns=df_1.columns, index=[new_row.name])])\n",
    "print(df_1)\n",
    "\n",
    "#df_1.loc[new_row.name] = new_row.values  # Figure out why this doesnt work later\n",
    "\n",
    "#df_1.loc[len(df_1)] = new_row #RangeIndex!\n",
    "df_1\n",
    "df_1.drop('Total', axis=1, inplace=True)\n",
    "df_1\n",
    "df_1.drop('B', axis=0, inplace=True)\n",
    "df_1['Sex'] = ['Men' , 'Women']\n",
    "df_1.set_index('Sex', inplace=True)\n",
    "df_1\n",
    "\n",
    "\n",
    "df_2.assign(div=lambda x: (x['one'] / x['two']))\n",
    "\n",
    "df_3 = pd.DataFrame({'A' : [1., py.nan, 3., py.nan]})\n",
    "df_4 = pd.DataFrame({'A' : [8.,9.,2.,4.]})\n",
    "df_3.combine_first(df_4)"
   ]
  },
  {
   "cell_type": "code",
   "execution_count": 10,
   "id": "92d6af65",
   "metadata": {},
   "outputs": [
    {
     "name": "stdout",
     "output_type": "stream",
     "text": [
      "Greater than 40\n",
      "        c      D      E\n",
      "A  False  False  False\n",
      "B  False   True   True\n",
      "    c   D\n",
      "B  38  46\n"
     ]
    },
    {
     "data": {
      "text/html": [
       "<div>\n",
       "<style scoped>\n",
       "    .dataframe tbody tr th:only-of-type {\n",
       "        vertical-align: middle;\n",
       "    }\n",
       "\n",
       "    .dataframe tbody tr th {\n",
       "        vertical-align: top;\n",
       "    }\n",
       "\n",
       "    .dataframe thead th {\n",
       "        text-align: right;\n",
       "    }\n",
       "</style>\n",
       "<table border=\"1\" class=\"dataframe\">\n",
       "  <thead>\n",
       "    <tr style=\"text-align: right;\">\n",
       "      <th></th>\n",
       "      <th>X</th>\n",
       "      <th>Y</th>\n",
       "      <th>Z</th>\n",
       "    </tr>\n",
       "  </thead>\n",
       "  <tbody>\n",
       "    <tr>\n",
       "      <th>B</th>\n",
       "      <td>4</td>\n",
       "      <td>5</td>\n",
       "      <td>6</td>\n",
       "    </tr>\n",
       "  </tbody>\n",
       "</table>\n",
       "</div>"
      ],
      "text/plain": [
       "   X  Y  Z\n",
       "B  4  5  6"
      ]
     },
     "execution_count": 10,
     "metadata": {},
     "output_type": "execute_result"
    }
   ],
   "source": [
    "# Conditional selection \n",
    "array2 = py.random.randint(10,50, size=(2,3))\n",
    "df_1 = pd.DataFrame(array2, ['A', 'B'], ['c', 'D', 'E'])\n",
    "df_1\n",
    "\n",
    "print(\"Greater than 40\\n\", df_1.gt(40.0))\n",
    "bool_1 = df_1 >= 45.0\n",
    "df_1[bool_1]\n",
    "\n",
    "df_1['E'] > 40\n",
    "\n",
    "df_1[df_1['E'] > 30]\n",
    "df_2 = df_1[df_1['E']>30]\n",
    "df_2['c']\n",
    "\n",
    "print(df_1[df_1['E']>20][['c', 'D']])\n",
    "\n",
    "array3 = py.array([[1,2,3],[4,5,6],[7,8,9]])\n",
    "df_2 = pd.DataFrame(array3, ['A','B','C'], ['X','Y','Z'])\n",
    "df_2\n",
    "df_2[(df_2['X']>3) & (df_2['X']<7)]\n",
    "\n"
   ]
  },
  {
   "cell_type": "code",
   "execution_count": null,
   "id": "6c89b4f5",
   "metadata": {},
   "outputs": [],
   "source": []
  },
  {
   "cell_type": "code",
   "execution_count": null,
   "id": "b340e9a3",
   "metadata": {},
   "outputs": [],
   "source": []
  }
 ],
 "metadata": {
  "kernelspec": {
   "display_name": "Python 3 (ipykernel)",
   "language": "python",
   "name": "python3"
  },
  "language_info": {
   "codemirror_mode": {
    "name": "ipython",
    "version": 3
   },
   "file_extension": ".py",
   "mimetype": "text/x-python",
   "name": "python",
   "nbconvert_exporter": "python",
   "pygments_lexer": "ipython3",
   "version": "3.10.11"
  }
 },
 "nbformat": 4,
 "nbformat_minor": 5
}
